{
  "nbformat": 4,
  "nbformat_minor": 0,
  "metadata": {
    "colab": {
      "name": "hw1_游智鈞",
      "provenance": []
    },
    "kernelspec": {
      "name": "python3",
      "display_name": "Python 3"
    },
    "language_info": {
      "name": "python"
    }
  },
  "cells": [
    {
      "cell_type": "markdown",
      "source": [
        "## 第一題"
      ],
      "metadata": {
        "id": "9OclP2OchLmb"
      }
    },
    {
      "cell_type": "code",
      "execution_count": null,
      "metadata": {
        "colab": {
          "base_uri": "https://localhost:8080/"
        },
        "id": "5YIAwadj13Hc",
        "outputId": "7e4f4ccc-38b7-4836-f986-2d867a1a76f7"
      },
      "outputs": [
        {
          "output_type": "stream",
          "name": "stdout",
          "text": [
            "25\n",
            "8\n",
            "Answer is 3.12\n"
          ]
        }
      ],
      "source": [
        "import math\n",
        "try:\n",
        "  a = int(input())\n",
        "  b = int(input())\n",
        "  print(f\"Answer is {a / b:.2f}\")\n",
        "except:\n",
        "  print(\"請輸入數字格式\")"
      ]
    },
    {
      "cell_type": "code",
      "source": [
        "try:\n",
        "  a = int(input())\n",
        "  b = int(input())\n",
        "  print(a // b)\n",
        "except:\n",
        "  print(\"請輸入數字格式\")"
      ],
      "metadata": {
        "colab": {
          "base_uri": "https://localhost:8080/"
        },
        "id": "Xe857bSgSO-f",
        "outputId": "739545c5-b4c0-45cc-ec57-d9f044e5f0f3"
      },
      "execution_count": null,
      "outputs": [
        {
          "output_type": "stream",
          "name": "stdout",
          "text": [
            "25\n",
            "aab\n",
            "請輸入數字格式\n"
          ]
        }
      ]
    },
    {
      "cell_type": "markdown",
      "source": [
        "## 第二題"
      ],
      "metadata": {
        "id": "xP77ahk2hQ8W"
      }
    },
    {
      "cell_type": "code",
      "source": [
        "x = int(input())\n",
        "if x % 2 == 0 and x % 3 == 0:\n",
        "  print(\"此數字為6的倍數\")\n",
        "elif x % 3 == 0:\n",
        "  print(\"此數字為3的倍數\")\n",
        "elif x % 2 == 0:\n",
        "  print(\"此數字為2的倍數\")\n",
        "else:\n",
        "  print(\"此數字無法整除\")"
      ],
      "metadata": {
        "colab": {
          "base_uri": "https://localhost:8080/"
        },
        "id": "LR62XGbrTbWS",
        "outputId": "1bcbd92e-f6d4-4721-a04d-36213137ca89"
      },
      "execution_count": null,
      "outputs": [
        {
          "output_type": "stream",
          "name": "stdout",
          "text": [
            "9\n",
            "此數字為3的倍數\n"
          ]
        }
      ]
    },
    {
      "cell_type": "markdown",
      "source": [
        "## 第三題"
      ],
      "metadata": {
        "id": "AgzosCxwhUDy"
      }
    },
    {
      "cell_type": "code",
      "source": [
        "import time\n",
        "n = int(input())\n",
        "h = n//3600\n",
        "m = (n-h*3600)//60\n",
        "s= n % 60\n",
        "print('%2d:%2d:%2d'%(h,m,s))\n",
        "n= (n+1) % 86400"
      ],
      "metadata": {
        "colab": {
          "base_uri": "https://localhost:8080/"
        },
        "id": "e6fzOqAVWrPj",
        "outputId": "db893b1d-55dd-4272-ea58-574a516e80ff"
      },
      "execution_count": null,
      "outputs": [
        {
          "output_type": "stream",
          "name": "stdout",
          "text": [
            "76000\n",
            "21: 6:40\n"
          ]
        }
      ]
    },
    {
      "cell_type": "markdown",
      "source": [
        "## 第四題"
      ],
      "metadata": {
        "id": "DiMLBUiqhXEH"
      }
    },
    {
      "cell_type": "code",
      "source": [
        "n = int(input())\n",
        "i = 1\n",
        "for i in range(1,n+1,2):\n",
        "  print(i,end = \" \")\n",
        "  i += 1"
      ],
      "metadata": {
        "colab": {
          "base_uri": "https://localhost:8080/"
        },
        "id": "5Id9U1F5Yjda",
        "outputId": "b2cdef09-3a00-4765-ad0f-155753d4a43c"
      },
      "execution_count": null,
      "outputs": [
        {
          "output_type": "stream",
          "name": "stdout",
          "text": [
            "20\n",
            "1 3 5 7 9 11 13 15 17 19 "
          ]
        }
      ]
    }
  ]
}