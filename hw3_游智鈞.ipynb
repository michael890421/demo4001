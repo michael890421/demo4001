{
  "nbformat": 4,
  "nbformat_minor": 0,
  "metadata": {
    "colab": {
      "name": "hw3_游智鈞",
      "provenance": []
    },
    "kernelspec": {
      "name": "python3",
      "display_name": "Python 3"
    },
    "language_info": {
      "name": "python"
    }
  },
  "cells": [
    {
      "cell_type": "markdown",
      "source": [
        "## 第一題"
      ],
      "metadata": {
        "id": "u9zPplR4d4Gt"
      }
    },
    {
      "cell_type": "code",
      "execution_count": null,
      "metadata": {
        "colab": {
          "base_uri": "https://localhost:8080/"
        },
        "id": "34FQbk1ec96G",
        "outputId": "b773f98e-f6be-4d8c-b813-ab7c08e519bb"
      },
      "outputs": [
        {
          "output_type": "stream",
          "name": "stdout",
          "text": [
            "5\n",
            "*****\n",
            "****\n",
            "***\n",
            "**\n",
            "*\n"
          ]
        }
      ],
      "source": [
        "n = int(input())\n",
        "for i in range(n):\n",
        "  for j in range(n - i):\n",
        "    print(\"*\",end=\"\")\n",
        "  print()"
      ]
    },
    {
      "cell_type": "markdown",
      "source": [
        "## 第二題"
      ],
      "metadata": {
        "id": "dSRx1KDwd7Hz"
      }
    },
    {
      "cell_type": "code",
      "source": [
        "n = int(input())\n",
        "for i in range(n):\n",
        "  for j in range(n - i - 1):\n",
        "    print(\" \",end=\"\")\n",
        "  for k in range(i + 1):\n",
        "    print(\"*\",end=\"\")\n",
        "  print()"
      ],
      "metadata": {
        "colab": {
          "base_uri": "https://localhost:8080/"
        },
        "id": "QC047lodde48",
        "outputId": "47e3f08b-ee14-4d63-ac59-3490f1250185"
      },
      "execution_count": null,
      "outputs": [
        {
          "output_type": "stream",
          "name": "stdout",
          "text": [
            "5\n",
            "    *\n",
            "   **\n",
            "  ***\n",
            " ****\n",
            "*****\n"
          ]
        }
      ]
    },
    {
      "cell_type": "markdown",
      "source": [
        "## 第三題"
      ],
      "metadata": {
        "id": "Zi4Q9PnZd-ND"
      }
    },
    {
      "cell_type": "code",
      "source": [
        "import math\n",
        "def get_distance(x1,x2,y1,y2):\n",
        "  result = ((x1-x2)**2+(y1-y2)**2)**1/2\n",
        "  return result\n",
        "x1 = int(input())\n",
        "x2 = int(input())\n",
        "y1 = int(input())\n",
        "y2 = int(input())\n",
        "a = (x1-x2)**2+(y1-y2)**2\n",
        "b = pow(a,0.5)\n",
        "print(b)"
      ],
      "metadata": {
        "colab": {
          "base_uri": "https://localhost:8080/"
        },
        "id": "jPbR9qF9d0Zc",
        "outputId": "7e54c3f3-c0b9-4c78-efe4-7940f3fab0d1"
      },
      "execution_count": null,
      "outputs": [
        {
          "output_type": "stream",
          "name": "stdout",
          "text": [
            "3\n",
            "7\n",
            "2\n",
            "5\n",
            "5.0\n"
          ]
        }
      ]
    },
    {
      "cell_type": "markdown",
      "source": [
        "## 第四題"
      ],
      "metadata": {
        "id": "3LzSNHWVeA8B"
      }
    },
    {
      "cell_type": "code",
      "source": [
        "import numpy as np\n",
        "row = int(input())\n",
        "col = int(input())\n",
        "np.random.randint(1,20,(row,col))"
      ],
      "metadata": {
        "colab": {
          "base_uri": "https://localhost:8080/"
        },
        "id": "C6om8cxDARVq",
        "outputId": "7a7d44f2-c7d9-46cb-a4e2-9081f8dccadf"
      },
      "execution_count": null,
      "outputs": [
        {
          "name": "stdout",
          "output_type": "stream",
          "text": [
            "5\n",
            "3\n"
          ]
        },
        {
          "output_type": "execute_result",
          "data": {
            "text/plain": [
              "array([[ 8,  9,  8],\n",
              "       [ 9, 18,  9],\n",
              "       [14, 16, 18],\n",
              "       [15,  9, 18],\n",
              "       [11,  4, 13]])"
            ]
          },
          "metadata": {},
          "execution_count": 30
        }
      ]
    }
  ]
}