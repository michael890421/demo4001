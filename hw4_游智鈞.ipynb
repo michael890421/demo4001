{
  "nbformat": 4,
  "nbformat_minor": 0,
  "metadata": {
    "colab": {
      "name": "hw4_游智鈞",
      "provenance": []
    },
    "kernelspec": {
      "name": "python3",
      "display_name": "Python 3"
    },
    "language_info": {
      "name": "python"
    }
  },
  "cells": [
    {
      "cell_type": "code",
      "execution_count": null,
      "metadata": {
        "id": "odjhuORCAFar"
      },
      "outputs": [],
      "source": [
        "import numpy as np"
      ]
    },
    {
      "cell_type": "markdown",
      "source": [
        "## 第一題"
      ],
      "metadata": {
        "id": "h3m3a2rTaMxT"
      }
    },
    {
      "cell_type": "code",
      "source": [
        "def input_array(x,n):\n",
        "  i = 0\n",
        "  while i < n:\n",
        "    input_number = int(input(\"輸入數字:\"))\n",
        "    x[i] = input_number\n",
        "    i += 1\n",
        "\n",
        "def add_array(x,y,z,n):\n",
        "  i = 0\n",
        "  while i < n:\n",
        "    z[i] = x[i] * y[i]\n",
        "    i += 1\n",
        "\n",
        "def print_array(x,name,n):\n",
        "  i = 0\n",
        "  while i < n:\n",
        "    print(name,\"[\",i,\"]\",x[i])\n",
        "    i += 1\n",
        "\n",
        "num = int(input())\n",
        "A = [0 for i in range(num)]\n",
        "B = [0 for i in range(num)]\n",
        "C = [0 for i in range(num)]\n",
        "\n",
        "input_array(A,num)\n",
        "input_array(B,num)\n",
        "add_array(A,B,C,num)\n",
        "print_array(A,\"A\",num)\n",
        "print_array(B,\"B\",num)\n",
        "print_array(C,\"C\",num)"
      ],
      "metadata": {
        "colab": {
          "base_uri": "https://localhost:8080/"
        },
        "id": "Y2an00cTQi6K",
        "outputId": "71e491d3-8be6-4221-fced-a178226f785a"
      },
      "execution_count": null,
      "outputs": [
        {
          "output_type": "stream",
          "name": "stdout",
          "text": [
            "6\n",
            "輸入數字:2\n",
            "輸入數字:3\n",
            "輸入數字:5\n",
            "輸入數字:5\n",
            "輸入數字:7\n",
            "輸入數字:8\n",
            "輸入數字:1\n",
            "輸入數字:2\n",
            "輸入數字:3\n",
            "輸入數字:10\n",
            "輸入數字:2\n",
            "輸入數字:6\n",
            "A [ 0 ] 2\n",
            "A [ 1 ] 3\n",
            "A [ 2 ] 5\n",
            "A [ 3 ] 5\n",
            "A [ 4 ] 7\n",
            "A [ 5 ] 8\n",
            "B [ 0 ] 1\n",
            "B [ 1 ] 2\n",
            "B [ 2 ] 3\n",
            "B [ 3 ] 10\n",
            "B [ 4 ] 2\n",
            "B [ 5 ] 6\n",
            "C [ 0 ] 2\n",
            "C [ 1 ] 6\n",
            "C [ 2 ] 15\n",
            "C [ 3 ] 50\n",
            "C [ 4 ] 14\n",
            "C [ 5 ] 48\n"
          ]
        }
      ]
    },
    {
      "cell_type": "code",
      "source": [
        "D = (A[0]*B[0] + A[1]*B[2] + A[2]*B[4])\n",
        "E = (A[0]*B[1] + A[1]*B[3] + A[2]*B[5])\n",
        "F = (A[3]*B[0] + A[4]*B[2] + A[5]*B[4])\n",
        "G = (A[3]*B[1] + A[4]*B[3] + A[5]*B[5])\n",
        "print(D)\n",
        "print(E)\n",
        "print(F)\n",
        "print(G)"
      ],
      "metadata": {
        "colab": {
          "base_uri": "https://localhost:8080/"
        },
        "id": "WBaCLJtBSD1t",
        "outputId": "3d352c58-c054-481a-e7a3-32a83631c26b"
      },
      "execution_count": null,
      "outputs": [
        {
          "output_type": "stream",
          "name": "stdout",
          "text": [
            "21\n",
            "64\n",
            "42\n",
            "128\n"
          ]
        }
      ]
    },
    {
      "cell_type": "code",
      "source": [
        "H = np.array([[21,64],[42,128]])\n",
        "print(H[0,0], H[0,1])\n",
        "print(H[1,0], H[1,1])"
      ],
      "metadata": {
        "colab": {
          "base_uri": "https://localhost:8080/"
        },
        "id": "w6mw4ic1Ug2c",
        "outputId": "9f87af47-0d12-4a46-e8be-df17eb7d84ec"
      },
      "execution_count": null,
      "outputs": [
        {
          "output_type": "stream",
          "name": "stdout",
          "text": [
            "21 64\n",
            "42 128\n"
          ]
        }
      ]
    },
    {
      "cell_type": "markdown",
      "source": [
        "## 第二題"
      ],
      "metadata": {
        "id": "1x9QfH4saJhY"
      }
    },
    {
      "cell_type": "code",
      "source": [
        "a = np.array([[32,57,89,82,98,57,88,56,93,91]])\n",
        "b = np.array([[88,93,20,70,56,83,92,100,80,97]])\n",
        "c = np.array([[82,75,83,95,96,90,77,82,90,88]])\n",
        "print(np.max(a,axis=1))\n",
        "print(np.max(b,axis=1))\n",
        "print(np.max(c,axis=1))\n",
        "print(np.sum(a,axis=1))\n",
        "print(np.sum(b,axis=1))\n",
        "print(np.sum(c,axis=1))"
      ],
      "metadata": {
        "colab": {
          "base_uri": "https://localhost:8080/"
        },
        "id": "hY-dBcscYqmF",
        "outputId": "2c3a426a-e3df-410b-a933-86e53a19e655"
      },
      "execution_count": null,
      "outputs": [
        {
          "output_type": "stream",
          "name": "stdout",
          "text": [
            "[98]\n",
            "[100]\n",
            "[96]\n",
            "[743]\n",
            "[779]\n",
            "[858]\n"
          ]
        }
      ]
    }
  ]
}