{
  "nbformat": 4,
  "nbformat_minor": 0,
  "metadata": {
    "colab": {
      "name": "hw2_游智鈞",
      "provenance": []
    },
    "kernelspec": {
      "name": "python3",
      "display_name": "Python 3"
    },
    "language_info": {
      "name": "python"
    }
  },
  "cells": [
    {
      "cell_type": "markdown",
      "source": [
        "## 第一題"
      ],
      "metadata": {
        "id": "SJ-cntoQ1Rqx"
      }
    },
    {
      "cell_type": "code",
      "source": [
        "n = int(input())\n",
        "i = 1\n",
        "total = sum(range(n + 1))\n",
        "while i <= n:\n",
        "  if i == n:\n",
        "    print(i,end = \"=\")\n",
        "  else:\n",
        "    print(i,end = \"+\")\n",
        "  i += 1\n",
        "print(f\"{total}\")"
      ],
      "metadata": {
        "colab": {
          "base_uri": "https://localhost:8080/"
        },
        "id": "bAoeB8LJy0SC",
        "outputId": "dda35b66-f368-49d2-cc77-2c516c5e45c3"
      },
      "execution_count": null,
      "outputs": [
        {
          "output_type": "stream",
          "name": "stdout",
          "text": [
            "10\n",
            "1+2+3+4+5+6+7+8+9+10=55\n"
          ]
        }
      ]
    },
    {
      "cell_type": "markdown",
      "source": [
        "## 第二題"
      ],
      "metadata": {
        "id": "kEBNHjlM1VgH"
      }
    },
    {
      "cell_type": "code",
      "source": [
        "import random\n",
        "numbers = []\n",
        "for i in range(10):\n",
        "  numbers.append(random.randint(1,100))\n",
        "print(numbers)"
      ],
      "metadata": {
        "id": "_R7QTT9mpYRu",
        "colab": {
          "base_uri": "https://localhost:8080/"
        },
        "outputId": "56dd29cc-5224-4c19-97ac-9cb15db2cf65"
      },
      "execution_count": null,
      "outputs": [
        {
          "output_type": "stream",
          "name": "stdout",
          "text": [
            "[21, 26, 6, 11, 22, 65, 66, 54, 18, 6]\n"
          ]
        }
      ]
    },
    {
      "cell_type": "code",
      "source": [
        "target = int(input())\n",
        "ans = []\n",
        "for v in numbers:\n",
        "  if v > target:\n",
        "   ans.append(v)\n",
        "print(ans)"
      ],
      "metadata": {
        "colab": {
          "base_uri": "https://localhost:8080/"
        },
        "id": "nFAfL5Z8kWLe",
        "outputId": "d99ec8fc-d34f-44fc-9b8e-8e8717fd85dc"
      },
      "execution_count": null,
      "outputs": [
        {
          "output_type": "stream",
          "name": "stdout",
          "text": [
            "20\n",
            "[21, 26, 22, 65, 66, 54]\n"
          ]
        }
      ]
    },
    {
      "cell_type": "markdown",
      "source": [
        "## 第三題"
      ],
      "metadata": {
        "id": "gWk5f0AY1YGA"
      }
    },
    {
      "cell_type": "code",
      "source": [
        "s = input()\n",
        "s = s.split(\" \")\n",
        "ans = []\n",
        "for v in s:\n",
        "  if int(v) % 2 == 0:\n",
        "    ans.append(int(v))\n",
        "print(sum(ans))"
      ],
      "metadata": {
        "id": "SrbIVMUzv0_8",
        "colab": {
          "base_uri": "https://localhost:8080/"
        },
        "outputId": "69959e60-b9ee-42a3-9a5f-b17da91eb4b1"
      },
      "execution_count": null,
      "outputs": [
        {
          "output_type": "stream",
          "name": "stdout",
          "text": [
            "32 100 89 67 54 92 80\n",
            "358\n"
          ]
        }
      ]
    },
    {
      "cell_type": "markdown",
      "source": [
        "## 第四題"
      ],
      "metadata": {
        "id": "fBGeeRLxr2jv"
      }
    },
    {
      "cell_type": "code",
      "source": [
        "s = input()\n",
        "count = 0\n",
        "for v in s:\n",
        "  if v == \"a\":\n",
        "    count += 1\n",
        "print(count)"
      ],
      "metadata": {
        "colab": {
          "base_uri": "https://localhost:8080/"
        },
        "id": "d5VvLusuvWZE",
        "outputId": "ed42ddb1-ec97-482a-b0ba-82d94e7f10c4"
      },
      "execution_count": null,
      "outputs": [
        {
          "output_type": "stream",
          "name": "stdout",
          "text": [
            "aabdsfhahdalhdhkhnga;k\n",
            "5\n"
          ]
        }
      ]
    }
  ]
}